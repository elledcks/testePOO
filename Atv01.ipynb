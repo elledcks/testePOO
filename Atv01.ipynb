{
 "cells": [
  {
   "cell_type": "code",
   "execution_count": null,
   "id": "ecc6ccd2-451b-4ecf-9323-f1856779ca3b",
   "metadata": {
    "tags": []
   },
   "outputs": [],
   "source": [
    "//package testePOO.Atividades.Atv01;\n",
    "//public class Atv01 {\n",
    "  //  public static void main(String[] args) {\n",
    "        System.out.println(\"disciplina POO\");\n",
    "    //}\n",
    "//}"
   ]
  },
  {
   "cell_type": "code",
   "execution_count": null,
   "id": "83067fbe-dbd3-46c9-8fd5-d787853a37e6",
   "metadata": {},
   "outputs": [],
   "source": []
  }
 ],
 "metadata": {
  "kernelspec": {
   "display_name": "Java",
   "language": "java",
   "name": "java"
  },
  "language_info": {
   "name": ""
  }
 },
 "nbformat": 4,
 "nbformat_minor": 5
}
